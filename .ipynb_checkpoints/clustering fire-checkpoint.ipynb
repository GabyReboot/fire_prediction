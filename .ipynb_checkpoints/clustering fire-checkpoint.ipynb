{
 "cells": [
  {
   "cell_type": "code",
   "execution_count": 1,
   "metadata": {},
   "outputs": [],
   "source": [
    "#@title Import packages\n",
    "import numpy as np, pandas as pd\n",
    "from matplotlib import pylab\n",
    "import matplotlib.pyplot as plt\n",
    "%matplotlib inline\n",
    "import scipy.stats as stats\n",
    "import statsmodels\n",
    "import seaborn as sns\n",
    "from __future__ import division\n",
    "\n",
    "import warnings\n",
    "warnings.filterwarnings(\"ignore\")"
   ]
  },
  {
   "cell_type": "code",
   "execution_count": 4,
   "metadata": {},
   "outputs": [],
   "source": [
    "# read data from local drive using Jupyter notebook mode\n",
    "import pandas as pd\n",
    "df1=pd.read_csv('fire_csv_data/2014.csv', index_col=None,\\\n",
    "              sep=',')\n",
    "df2=pd.read_csv('fire_csv_data/2015.csv', index_col=None,\\\n",
    "              sep=',')\n",
    "df3=pd.read_csv('fire_csv_data/2016.csv', index_col=None,\\\n",
    "              sep=',')\n",
    "df4=pd.read_csv('fire_csv_data/2017.csv', index_col=None,\\\n",
    "              sep=',')\n",
    "df5=pd.read_csv('fire_csv_data/2018.csv', index_col=None,\\\n",
    "              sep=',')"
   ]
  },
  {
   "cell_type": "code",
   "execution_count": 5,
   "metadata": {},
   "outputs": [
    {
     "data": {
      "text/html": [
       "<div>\n",
       "<style scoped>\n",
       "    .dataframe tbody tr th:only-of-type {\n",
       "        vertical-align: middle;\n",
       "    }\n",
       "\n",
       "    .dataframe tbody tr th {\n",
       "        vertical-align: top;\n",
       "    }\n",
       "\n",
       "    .dataframe thead th {\n",
       "        text-align: right;\n",
       "    }\n",
       "</style>\n",
       "<table border=\"1\" class=\"dataframe\">\n",
       "  <thead>\n",
       "    <tr style=\"text-align: right;\">\n",
       "      <th></th>\n",
       "      <th>LAT</th>\n",
       "      <th>LONG</th>\n",
       "      <th>DATE</th>\n",
       "      <th>TEMP</th>\n",
       "      <th>CONF</th>\n",
       "      <th>geometry</th>\n",
       "      <th>Month</th>\n",
       "    </tr>\n",
       "  </thead>\n",
       "  <tbody>\n",
       "    <tr>\n",
       "      <th>0</th>\n",
       "      <td>49.002</td>\n",
       "      <td>-122.400</td>\n",
       "      <td>2014-09-16</td>\n",
       "      <td>312.6</td>\n",
       "      <td>71</td>\n",
       "      <td>POINT (-122.4 49.0020000009404)</td>\n",
       "      <td>9</td>\n",
       "    </tr>\n",
       "    <tr>\n",
       "      <th>1</th>\n",
       "      <td>48.996</td>\n",
       "      <td>-118.149</td>\n",
       "      <td>2014-11-07</td>\n",
       "      <td>308.3</td>\n",
       "      <td>67</td>\n",
       "      <td>POINT (-118.149 48.9960000009405)</td>\n",
       "      <td>11</td>\n",
       "    </tr>\n",
       "    <tr>\n",
       "      <th>2</th>\n",
       "      <td>48.971</td>\n",
       "      <td>-118.630</td>\n",
       "      <td>2014-10-09</td>\n",
       "      <td>304.3</td>\n",
       "      <td>60</td>\n",
       "      <td>POINT (-118.63 48.9710000009406)</td>\n",
       "      <td>10</td>\n",
       "    </tr>\n",
       "    <tr>\n",
       "      <th>3</th>\n",
       "      <td>48.968</td>\n",
       "      <td>-118.643</td>\n",
       "      <td>2014-10-09</td>\n",
       "      <td>302.6</td>\n",
       "      <td>53</td>\n",
       "      <td>POINT (-118.643 48.9680000009406)</td>\n",
       "      <td>10</td>\n",
       "    </tr>\n",
       "    <tr>\n",
       "      <th>4</th>\n",
       "      <td>48.965</td>\n",
       "      <td>-118.626</td>\n",
       "      <td>2014-10-09</td>\n",
       "      <td>327.8</td>\n",
       "      <td>85</td>\n",
       "      <td>POINT (-118.626 48.9650000009406)</td>\n",
       "      <td>10</td>\n",
       "    </tr>\n",
       "  </tbody>\n",
       "</table>\n",
       "</div>"
      ],
      "text/plain": [
       "      LAT     LONG        DATE   TEMP  CONF  \\\n",
       "0  49.002 -122.400  2014-09-16  312.6    71   \n",
       "1  48.996 -118.149  2014-11-07  308.3    67   \n",
       "2  48.971 -118.630  2014-10-09  304.3    60   \n",
       "3  48.968 -118.643  2014-10-09  302.6    53   \n",
       "4  48.965 -118.626  2014-10-09  327.8    85   \n",
       "\n",
       "                            geometry  Month  \n",
       "0    POINT (-122.4 49.0020000009404)      9  \n",
       "1  POINT (-118.149 48.9960000009405)     11  \n",
       "2   POINT (-118.63 48.9710000009406)     10  \n",
       "3  POINT (-118.643 48.9680000009406)     10  \n",
       "4  POINT (-118.626 48.9650000009406)     10  "
      ]
     },
     "execution_count": 5,
     "metadata": {},
     "output_type": "execute_result"
    }
   ],
   "source": [
    "df1.head()"
   ]
  },
  {
   "cell_type": "code",
   "execution_count": 6,
   "metadata": {},
   "outputs": [
    {
     "data": {
      "text/html": [
       "<div>\n",
       "<style scoped>\n",
       "    .dataframe tbody tr th:only-of-type {\n",
       "        vertical-align: middle;\n",
       "    }\n",
       "\n",
       "    .dataframe tbody tr th {\n",
       "        vertical-align: top;\n",
       "    }\n",
       "\n",
       "    .dataframe thead th {\n",
       "        text-align: right;\n",
       "    }\n",
       "</style>\n",
       "<table border=\"1\" class=\"dataframe\">\n",
       "  <thead>\n",
       "    <tr style=\"text-align: right;\">\n",
       "      <th></th>\n",
       "      <th>LAT</th>\n",
       "      <th>LONG</th>\n",
       "      <th>DATE</th>\n",
       "      <th>TEMP</th>\n",
       "      <th>CONF</th>\n",
       "      <th>geometry</th>\n",
       "      <th>Month</th>\n",
       "    </tr>\n",
       "  </thead>\n",
       "  <tbody>\n",
       "    <tr>\n",
       "      <th>0</th>\n",
       "      <td>48.999</td>\n",
       "      <td>-119.923</td>\n",
       "      <td>2015-07-03</td>\n",
       "      <td>338.6</td>\n",
       "      <td>88</td>\n",
       "      <td>POINT (-119.923 48.9990000009405)</td>\n",
       "      <td>7</td>\n",
       "    </tr>\n",
       "    <tr>\n",
       "      <th>1</th>\n",
       "      <td>48.999</td>\n",
       "      <td>-119.921</td>\n",
       "      <td>2015-07-04</td>\n",
       "      <td>350.8</td>\n",
       "      <td>96</td>\n",
       "      <td>POINT (-119.921 48.9990000009405)</td>\n",
       "      <td>7</td>\n",
       "    </tr>\n",
       "    <tr>\n",
       "      <th>2</th>\n",
       "      <td>48.999</td>\n",
       "      <td>-119.889</td>\n",
       "      <td>2015-07-09</td>\n",
       "      <td>316.7</td>\n",
       "      <td>34</td>\n",
       "      <td>POINT (-119.889 48.9990000009405)</td>\n",
       "      <td>7</td>\n",
       "    </tr>\n",
       "    <tr>\n",
       "      <th>3</th>\n",
       "      <td>48.998</td>\n",
       "      <td>-119.930</td>\n",
       "      <td>2015-07-03</td>\n",
       "      <td>336.0</td>\n",
       "      <td>87</td>\n",
       "      <td>POINT (-119.93 48.9980000009405)</td>\n",
       "      <td>7</td>\n",
       "    </tr>\n",
       "    <tr>\n",
       "      <th>4</th>\n",
       "      <td>48.998</td>\n",
       "      <td>-119.916</td>\n",
       "      <td>2015-07-03</td>\n",
       "      <td>309.7</td>\n",
       "      <td>78</td>\n",
       "      <td>POINT (-119.916 48.9980000009405)</td>\n",
       "      <td>7</td>\n",
       "    </tr>\n",
       "  </tbody>\n",
       "</table>\n",
       "</div>"
      ],
      "text/plain": [
       "      LAT     LONG        DATE   TEMP  CONF  \\\n",
       "0  48.999 -119.923  2015-07-03  338.6    88   \n",
       "1  48.999 -119.921  2015-07-04  350.8    96   \n",
       "2  48.999 -119.889  2015-07-09  316.7    34   \n",
       "3  48.998 -119.930  2015-07-03  336.0    87   \n",
       "4  48.998 -119.916  2015-07-03  309.7    78   \n",
       "\n",
       "                            geometry  Month  \n",
       "0  POINT (-119.923 48.9990000009405)      7  \n",
       "1  POINT (-119.921 48.9990000009405)      7  \n",
       "2  POINT (-119.889 48.9990000009405)      7  \n",
       "3   POINT (-119.93 48.9980000009405)      7  \n",
       "4  POINT (-119.916 48.9980000009405)      7  "
      ]
     },
     "execution_count": 6,
     "metadata": {},
     "output_type": "execute_result"
    }
   ],
   "source": [
    "df2.head()"
   ]
  },
  {
   "cell_type": "code",
   "execution_count": 7,
   "metadata": {},
   "outputs": [
    {
     "data": {
      "text/html": [
       "<div>\n",
       "<style scoped>\n",
       "    .dataframe tbody tr th:only-of-type {\n",
       "        vertical-align: middle;\n",
       "    }\n",
       "\n",
       "    .dataframe tbody tr th {\n",
       "        vertical-align: top;\n",
       "    }\n",
       "\n",
       "    .dataframe thead th {\n",
       "        text-align: right;\n",
       "    }\n",
       "</style>\n",
       "<table border=\"1\" class=\"dataframe\">\n",
       "  <thead>\n",
       "    <tr style=\"text-align: right;\">\n",
       "      <th></th>\n",
       "      <th>LAT</th>\n",
       "      <th>LONG</th>\n",
       "      <th>DATE</th>\n",
       "      <th>TEMP</th>\n",
       "      <th>CONF</th>\n",
       "      <th>geometry</th>\n",
       "      <th>Month</th>\n",
       "    </tr>\n",
       "  </thead>\n",
       "  <tbody>\n",
       "    <tr>\n",
       "      <th>0</th>\n",
       "      <td>48.976</td>\n",
       "      <td>-122.170</td>\n",
       "      <td>2016-08-25</td>\n",
       "      <td>316.4</td>\n",
       "      <td>70</td>\n",
       "      <td>POINT (-122.17 48.9760000009339)</td>\n",
       "      <td>8</td>\n",
       "    </tr>\n",
       "    <tr>\n",
       "      <th>1</th>\n",
       "      <td>48.972</td>\n",
       "      <td>-119.071</td>\n",
       "      <td>2016-05-18</td>\n",
       "      <td>323.7</td>\n",
       "      <td>69</td>\n",
       "      <td>POINT (-119.071 48.972000000934)</td>\n",
       "      <td>5</td>\n",
       "    </tr>\n",
       "    <tr>\n",
       "      <th>2</th>\n",
       "      <td>48.970</td>\n",
       "      <td>-119.089</td>\n",
       "      <td>2016-05-13</td>\n",
       "      <td>315.9</td>\n",
       "      <td>76</td>\n",
       "      <td>POINT (-119.089 48.970000000934)</td>\n",
       "      <td>5</td>\n",
       "    </tr>\n",
       "    <tr>\n",
       "      <th>3</th>\n",
       "      <td>48.966</td>\n",
       "      <td>-119.087</td>\n",
       "      <td>2016-05-17</td>\n",
       "      <td>312.4</td>\n",
       "      <td>72</td>\n",
       "      <td>POINT (-119.087 48.966000000934)</td>\n",
       "      <td>5</td>\n",
       "    </tr>\n",
       "    <tr>\n",
       "      <th>4</th>\n",
       "      <td>48.966</td>\n",
       "      <td>-119.085</td>\n",
       "      <td>2016-05-17</td>\n",
       "      <td>300.8</td>\n",
       "      <td>36</td>\n",
       "      <td>POINT (-119.085 48.966000000934)</td>\n",
       "      <td>5</td>\n",
       "    </tr>\n",
       "  </tbody>\n",
       "</table>\n",
       "</div>"
      ],
      "text/plain": [
       "      LAT     LONG        DATE   TEMP  CONF                          geometry  \\\n",
       "0  48.976 -122.170  2016-08-25  316.4    70  POINT (-122.17 48.9760000009339)   \n",
       "1  48.972 -119.071  2016-05-18  323.7    69  POINT (-119.071 48.972000000934)   \n",
       "2  48.970 -119.089  2016-05-13  315.9    76  POINT (-119.089 48.970000000934)   \n",
       "3  48.966 -119.087  2016-05-17  312.4    72  POINT (-119.087 48.966000000934)   \n",
       "4  48.966 -119.085  2016-05-17  300.8    36  POINT (-119.085 48.966000000934)   \n",
       "\n",
       "   Month  \n",
       "0      8  \n",
       "1      5  \n",
       "2      5  \n",
       "3      5  \n",
       "4      5  "
      ]
     },
     "execution_count": 7,
     "metadata": {},
     "output_type": "execute_result"
    }
   ],
   "source": [
    "df3.head()"
   ]
  },
  {
   "cell_type": "code",
   "execution_count": 8,
   "metadata": {},
   "outputs": [
    {
     "data": {
      "text/html": [
       "<div>\n",
       "<style scoped>\n",
       "    .dataframe tbody tr th:only-of-type {\n",
       "        vertical-align: middle;\n",
       "    }\n",
       "\n",
       "    .dataframe tbody tr th {\n",
       "        vertical-align: top;\n",
       "    }\n",
       "\n",
       "    .dataframe thead th {\n",
       "        text-align: right;\n",
       "    }\n",
       "</style>\n",
       "<table border=\"1\" class=\"dataframe\">\n",
       "  <thead>\n",
       "    <tr style=\"text-align: right;\">\n",
       "      <th></th>\n",
       "      <th>LAT</th>\n",
       "      <th>LONG</th>\n",
       "      <th>DATE</th>\n",
       "      <th>TEMP</th>\n",
       "      <th>CONF</th>\n",
       "      <th>geometry</th>\n",
       "      <th>Month</th>\n",
       "    </tr>\n",
       "  </thead>\n",
       "  <tbody>\n",
       "    <tr>\n",
       "      <th>0</th>\n",
       "      <td>49.0</td>\n",
       "      <td>-120.529</td>\n",
       "      <td>2017-09-05</td>\n",
       "      <td>305.9</td>\n",
       "      <td>12</td>\n",
       "      <td>POINT (-120.529 49.0000000009338)</td>\n",
       "      <td>9</td>\n",
       "    </tr>\n",
       "    <tr>\n",
       "      <th>1</th>\n",
       "      <td>49.0</td>\n",
       "      <td>-120.511</td>\n",
       "      <td>2017-09-04</td>\n",
       "      <td>319.3</td>\n",
       "      <td>52</td>\n",
       "      <td>POINT (-120.511 49.0000000009338)</td>\n",
       "      <td>9</td>\n",
       "    </tr>\n",
       "    <tr>\n",
       "      <th>2</th>\n",
       "      <td>49.0</td>\n",
       "      <td>-120.510</td>\n",
       "      <td>2017-09-04</td>\n",
       "      <td>319.3</td>\n",
       "      <td>51</td>\n",
       "      <td>POINT (-120.51 49.0000000009338)</td>\n",
       "      <td>9</td>\n",
       "    </tr>\n",
       "    <tr>\n",
       "      <th>3</th>\n",
       "      <td>49.0</td>\n",
       "      <td>-120.509</td>\n",
       "      <td>2017-09-03</td>\n",
       "      <td>319.4</td>\n",
       "      <td>98</td>\n",
       "      <td>POINT (-120.509 49.0000000009338)</td>\n",
       "      <td>9</td>\n",
       "    </tr>\n",
       "    <tr>\n",
       "      <th>4</th>\n",
       "      <td>49.0</td>\n",
       "      <td>-120.501</td>\n",
       "      <td>2017-09-06</td>\n",
       "      <td>321.5</td>\n",
       "      <td>74</td>\n",
       "      <td>POINT (-120.501 49.0000000009338)</td>\n",
       "      <td>9</td>\n",
       "    </tr>\n",
       "  </tbody>\n",
       "</table>\n",
       "</div>"
      ],
      "text/plain": [
       "    LAT     LONG        DATE   TEMP  CONF                           geometry  \\\n",
       "0  49.0 -120.529  2017-09-05  305.9    12  POINT (-120.529 49.0000000009338)   \n",
       "1  49.0 -120.511  2017-09-04  319.3    52  POINT (-120.511 49.0000000009338)   \n",
       "2  49.0 -120.510  2017-09-04  319.3    51   POINT (-120.51 49.0000000009338)   \n",
       "3  49.0 -120.509  2017-09-03  319.4    98  POINT (-120.509 49.0000000009338)   \n",
       "4  49.0 -120.501  2017-09-06  321.5    74  POINT (-120.501 49.0000000009338)   \n",
       "\n",
       "   Month  \n",
       "0      9  \n",
       "1      9  \n",
       "2      9  \n",
       "3      9  \n",
       "4      9  "
      ]
     },
     "execution_count": 8,
     "metadata": {},
     "output_type": "execute_result"
    }
   ],
   "source": [
    "df4.head()"
   ]
  },
  {
   "cell_type": "code",
   "execution_count": 9,
   "metadata": {},
   "outputs": [
    {
     "data": {
      "text/html": [
       "<div>\n",
       "<style scoped>\n",
       "    .dataframe tbody tr th:only-of-type {\n",
       "        vertical-align: middle;\n",
       "    }\n",
       "\n",
       "    .dataframe tbody tr th {\n",
       "        vertical-align: top;\n",
       "    }\n",
       "\n",
       "    .dataframe thead th {\n",
       "        text-align: right;\n",
       "    }\n",
       "</style>\n",
       "<table border=\"1\" class=\"dataframe\">\n",
       "  <thead>\n",
       "    <tr style=\"text-align: right;\">\n",
       "      <th></th>\n",
       "      <th>LAT</th>\n",
       "      <th>LONG</th>\n",
       "      <th>DATE</th>\n",
       "      <th>TEMP</th>\n",
       "      <th>CONF</th>\n",
       "      <th>geometry</th>\n",
       "      <th>Month</th>\n",
       "    </tr>\n",
       "  </thead>\n",
       "  <tbody>\n",
       "    <tr>\n",
       "      <th>0</th>\n",
       "      <td>49.000</td>\n",
       "      <td>-118.056</td>\n",
       "      <td>2018-08-18</td>\n",
       "      <td>307.8</td>\n",
       "      <td>54</td>\n",
       "      <td>POINT (-118.056 49.0000000009338)</td>\n",
       "      <td>8</td>\n",
       "    </tr>\n",
       "    <tr>\n",
       "      <th>1</th>\n",
       "      <td>48.999</td>\n",
       "      <td>-119.804</td>\n",
       "      <td>2018-08-23</td>\n",
       "      <td>360.8</td>\n",
       "      <td>100</td>\n",
       "      <td>POINT (-119.804 48.9990000009338)</td>\n",
       "      <td>8</td>\n",
       "    </tr>\n",
       "    <tr>\n",
       "      <th>2</th>\n",
       "      <td>48.999</td>\n",
       "      <td>-119.804</td>\n",
       "      <td>2018-08-23</td>\n",
       "      <td>360.6</td>\n",
       "      <td>100</td>\n",
       "      <td>POINT (-119.804 48.9990000009338)</td>\n",
       "      <td>8</td>\n",
       "    </tr>\n",
       "    <tr>\n",
       "      <th>3</th>\n",
       "      <td>48.999</td>\n",
       "      <td>-118.063</td>\n",
       "      <td>2018-08-19</td>\n",
       "      <td>314.9</td>\n",
       "      <td>29</td>\n",
       "      <td>POINT (-118.063 48.9990000009338)</td>\n",
       "      <td>8</td>\n",
       "    </tr>\n",
       "    <tr>\n",
       "      <th>4</th>\n",
       "      <td>48.999</td>\n",
       "      <td>-118.053</td>\n",
       "      <td>2018-08-17</td>\n",
       "      <td>353.9</td>\n",
       "      <td>97</td>\n",
       "      <td>POINT (-118.053 48.9990000009338)</td>\n",
       "      <td>8</td>\n",
       "    </tr>\n",
       "  </tbody>\n",
       "</table>\n",
       "</div>"
      ],
      "text/plain": [
       "      LAT     LONG        DATE   TEMP  CONF  \\\n",
       "0  49.000 -118.056  2018-08-18  307.8    54   \n",
       "1  48.999 -119.804  2018-08-23  360.8   100   \n",
       "2  48.999 -119.804  2018-08-23  360.6   100   \n",
       "3  48.999 -118.063  2018-08-19  314.9    29   \n",
       "4  48.999 -118.053  2018-08-17  353.9    97   \n",
       "\n",
       "                            geometry  Month  \n",
       "0  POINT (-118.056 49.0000000009338)      8  \n",
       "1  POINT (-119.804 48.9990000009338)      8  \n",
       "2  POINT (-119.804 48.9990000009338)      8  \n",
       "3  POINT (-118.063 48.9990000009338)      8  \n",
       "4  POINT (-118.053 48.9990000009338)      8  "
      ]
     },
     "execution_count": 9,
     "metadata": {},
     "output_type": "execute_result"
    }
   ],
   "source": [
    "df5.head()"
   ]
  },
  {
   "cell_type": "code",
   "execution_count": 10,
   "metadata": {},
   "outputs": [],
   "source": [
    "df_t = pd.concat([df1,df2,df3,df4,df5], axis=0)"
   ]
  },
  {
   "cell_type": "code",
   "execution_count": 13,
   "metadata": {},
   "outputs": [
    {
     "data": {
      "text/plain": [
       "194438"
      ]
     },
     "execution_count": 13,
     "metadata": {},
     "output_type": "execute_result"
    }
   ],
   "source": [
    "len(df1)+len(df2)+len(df3)+len(df4)+len(df5)"
   ]
  },
  {
   "cell_type": "markdown",
   "metadata": {},
   "source": [
    "# fire clustering in each month"
   ]
  },
  {
   "cell_type": "markdown",
   "metadata": {},
   "source": [
    "## split data into 12 months"
   ]
  },
  {
   "cell_type": "code",
   "execution_count": 24,
   "metadata": {},
   "outputs": [],
   "source": [
    "df_ls = [pd.DataFrame()]*12\n",
    "for i in range(12):\n",
    "    df_ls[i] = df_t[df_t.Month==i+1]"
   ]
  },
  {
   "cell_type": "markdown",
   "metadata": {},
   "source": [
    "## cluster data in each month\n",
    "since fire frequency in diferent months vary a lot, the max_distance and min_sample parameters in DBSCAN model are tuned seperatly for each month"
   ]
  },
  {
   "cell_type": "code",
   "execution_count": 32,
   "metadata": {},
   "outputs": [],
   "source": [
    "from sklearn.cluster import DBSCAN\n",
    "from geopy.distance import great_circle\n",
    "from shapely.geometry import MultiPoint\n",
    "import geopandas as gpd\n",
    "from shapely.geometry import Point"
   ]
  },
  {
   "cell_type": "code",
   "execution_count": 27,
   "metadata": {},
   "outputs": [],
   "source": [
    "def dbscan_clustering(max_distance,min_sample,data):\n",
    "    ## Data extraction\n",
    "    coords=data.as_matrix(columns=['LAT', 'LONG'])\n",
    "    ## model parameters\n",
    "    kms_per_radian = 6371.0088\n",
    "    epsilon = max_distance / kms_per_radian\n",
    "    \n",
    "    db = DBSCAN(eps=epsilon, min_samples=min_sample, algorithm='ball_tree', metric='haversine').fit(np.radians(coords))\n",
    "    \n",
    "    cluster_labels = db.labels_   \n",
    "    num_clusters = len(set(cluster_labels))\n",
    "    clusters = pd.Series([coords[cluster_labels == n] for n in np.unique(cluster_labels)]) # cluster_labels == n will return index\n",
    "    \n",
    "    print('Number of clusters: {}'.format(num_clusters))\n",
    "    \n",
    "    ## initialize lists for centroids and its clusters\n",
    "    lat = []\n",
    "    lon = []\n",
    "    num_members = []\n",
    "    \n",
    "    ## loop through clusters and get centroids, number of members\n",
    "    for ii in range(len(clusters)):\n",
    "        ## filter empty clusters\n",
    "        if clusters[ii].any():\n",
    "            ## get centroid and magnitude of cluster\n",
    "            lat.append(MultiPoint(clusters[ii]).centroid.x)\n",
    "            lon.append(MultiPoint(clusters[ii]).centroid.y)\n",
    "            num_members.append(len(clusters[ii]))\n",
    "            \n",
    "    cluster_spots = [lat,lon,num_members]\n",
    "    cluster_spots = np.transpose(np.array(cluster_spots))\n",
    "    return (cluster_spots, clusters, cluster_labels)\n",
    "    "
   ]
  },
  {
   "cell_type": "markdown",
   "metadata": {},
   "source": [
    "January"
   ]
  },
  {
   "cell_type": "code",
   "execution_count": 48,
   "metadata": {},
   "outputs": [
    {
     "name": "stdout",
     "output_type": "stream",
     "text": [
      "Number of clusters: 15\n"
     ]
    }
   ],
   "source": [
    "mdf = df_ls[0]\n",
    "loc = mdf[['LAT','LONG']]\n",
    "max_distance = 1 # in kilometers\n",
    "min_pickups = 10\n",
    "    \n",
    "# the first cluster is noise cluster, need to be removed\n",
    "hot_spots,dbscan_clusters, cluster_labels= dbscan_clustering(max_distance ,min_pickups, loc)\n",
    "# (0.02 + 10): 13, (0.1+50):6, () \n",
    "df_clust = pd.DataFrame(hot_spots, columns=['lat','lon','num'])"
   ]
  },
  {
   "cell_type": "code",
   "execution_count": 44,
   "metadata": {},
   "outputs": [
    {
     "data": {
      "text/plain": [
       "<matplotlib.axes._subplots.AxesSubplot at 0x16872edfba8>"
      ]
     },
     "execution_count": 44,
     "metadata": {},
     "output_type": "execute_result"
    },
    {
     "data": {
      "image/png": "[encoded data removed]",
      "text/plain": [
       "<Figure size 720x720 with 2 Axes>"
      ]
     },
     "metadata": {},
     "output_type": "display_data"
    }
   ],
   "source": [
    "# creating a geometry column \n",
    "geometry = [Point(xy) for xy in zip(df_clust['lon'], df_clust['lat'])]\n",
    "# Coordinate reference system : WGS84\n",
    "crs = {'init': 'epsg:4326'}\n",
    "# Creating a Geographic data frame \n",
    "gdf = gpd.GeoDataFrame(df_clust, crs=crs, geometry=geometry)\n",
    "gdf = gdf.drop(gdf.index[0])\n",
    "gdf.plot(column = 'num',figsize=[10,10],legend=True)"
   ]
  },
  {
   "cell_type": "code",
   "execution_count": null,
   "metadata": {},
   "outputs": [],
   "source": [
    "df_clust.drop(df_clust.index[0])\n",
    "df_clust.to_csv('cluster_month_1.csv',index = False)"
   ]
  },
  {
   "cell_type": "markdown",
   "metadata": {},
   "source": [
    "Feburary"
   ]
  },
  {
   "cell_type": "code",
   "execution_count": 53,
   "metadata": {},
   "outputs": [
    {
     "name": "stdout",
     "output_type": "stream",
     "text": [
      "Number of clusters: 17\n"
     ]
    }
   ],
   "source": [
    "mdf = df_ls[1]\n",
    "loc = mdf[['LAT','LONG']]\n",
    "max_distance = 1 # in kilometers\n",
    "min_pickups = 9\n",
    "    \n",
    "# the first cluster is noise cluster, need to be removed\n",
    "hot_spots,dbscan_clusters, cluster_labels= dbscan_clustering(max_distance ,min_pickups, loc)\n",
    "# (0.02 + 10): 13, (0.1+50):6, () \n",
    "df_clust = pd.DataFrame(hot_spots, columns=['lat','lon','num'])"
   ]
  },
  {
   "cell_type": "code",
   "execution_count": 54,
   "metadata": {},
   "outputs": [
    {
     "data": {
      "text/plain": [
       "<matplotlib.axes._subplots.AxesSubplot at 0x168731413c8>"
      ]
     },
     "execution_count": 54,
     "metadata": {},
     "output_type": "execute_result"
    },
    {
     "data": {
      "image/png": "[encoded data removed]",
      "text/plain": [
       "<Figure size 720x720 with 2 Axes>"
      ]
     },
     "metadata": {},
     "output_type": "display_data"
    }
   ],
   "source": [
    "# creating a geometry column \n",
    "geometry = [Point(xy) for xy in zip(df_clust['lon'], df_clust['lat'])]\n",
    "# Coordinate reference system : WGS84\n",
    "crs = {'init': 'epsg:4326'}\n",
    "# Creating a Geographic data frame \n",
    "gdf = gpd.GeoDataFrame(df_clust, crs=crs, geometry=geometry)\n",
    "gdf = gdf.drop(gdf.index[0])\n",
    "gdf.plot(column = 'num',figsize=[10,10],legend=True)"
   ]
  },
  {
   "cell_type": "code",
   "execution_count": 55,
   "metadata": {},
   "outputs": [],
   "source": [
    "df_clust.drop(df_clust.index[0])\n",
    "df_clust.to_csv('cluster_month_2.csv',index = False)"
   ]
  },
  {
   "cell_type": "markdown",
   "metadata": {},
   "source": [
    "March"
   ]
  },
  {
   "cell_type": "code",
   "execution_count": 56,
   "metadata": {},
   "outputs": [
    {
     "name": "stdout",
     "output_type": "stream",
     "text": [
      "Number of clusters: 19\n"
     ]
    }
   ],
   "source": [
    "mdf = df_ls[2]\n",
    "loc = mdf[['LAT','LONG']]\n",
    "max_distance = 1 # in kilometers\n",
    "min_pickups = 10\n",
    "    \n",
    "# the first cluster is noise cluster, need to be removed\n",
    "hot_spots,dbscan_clusters, cluster_labels= dbscan_clustering(max_distance ,min_pickups, loc)\n",
    "# (0.02 + 10): 13, (0.1+50):6, () \n",
    "df_clust = pd.DataFrame(hot_spots, columns=['lat','lon','num'])"
   ]
  },
  {
   "cell_type": "code",
   "execution_count": 57,
   "metadata": {},
   "outputs": [
    {
     "data": {
      "text/plain": [
       "<matplotlib.axes._subplots.AxesSubplot at 0x16873204320>"
      ]
     },
     "execution_count": 57,
     "metadata": {},
     "output_type": "execute_result"
    },
    {
     "data": {
      "image/png": "[encoded data removed]",
      "text/plain": [
       "<Figure size 720x720 with 2 Axes>"
      ]
     },
     "metadata": {},
     "output_type": "display_data"
    }
   ],
   "source": [
    "# creating a geometry column \n",
    "geometry = [Point(xy) for xy in zip(df_clust['lon'], df_clust['lat'])]\n",
    "# Coordinate reference system : WGS84\n",
    "crs = {'init': 'epsg:4326'}\n",
    "# Creating a Geographic data frame \n",
    "gdf = gpd.GeoDataFrame(df_clust, crs=crs, geometry=geometry)\n",
    "gdf = gdf.drop(gdf.index[0])\n",
    "gdf.plot(column = 'num',figsize=[10,10],legend=True)"
   ]
  },
  {
   "cell_type": "code",
   "execution_count": 59,
   "metadata": {},
   "outputs": [],
   "source": [
    "df_clust.drop(df_clust.index[0])\n",
    "df_clust.to_csv('cluster_month_3.csv',index = False)"
   ]
  },
  {
   "cell_type": "markdown",
   "metadata": {},
   "source": [
    "April"
   ]
  },
  {
   "cell_type": "code",
   "execution_count": 60,
   "metadata": {},
   "outputs": [
    {
     "name": "stdout",
     "output_type": "stream",
     "text": [
      "Number of clusters: 24\n"
     ]
    }
   ],
   "source": [
    "mdf = df_ls[3]\n",
    "loc = mdf[['LAT','LONG']]\n",
    "max_distance = 1 # in kilometers\n",
    "min_pickups = 10\n",
    "    \n",
    "# the first cluster is noise cluster, need to be removed\n",
    "hot_spots,dbscan_clusters, cluster_labels= dbscan_clustering(max_distance ,min_pickups, loc)\n",
    "# (0.02 + 10): 13, (0.1+50):6, () \n",
    "df_clust = pd.DataFrame(hot_spots, columns=['lat','lon','num'])"
   ]
  },
  {
   "cell_type": "code",
   "execution_count": 61,
   "metadata": {},
   "outputs": [
    {
     "data": {
      "text/plain": [
       "<matplotlib.axes._subplots.AxesSubplot at 0x168732794e0>"
      ]
     },
     "execution_count": 61,
     "metadata": {},
     "output_type": "execute_result"
    },
    {
     "data": {
      "image/png": "[encoded data removed]",
      "text/plain": [
       "<Figure size 720x720 with 2 Axes>"
      ]
     },
     "metadata": {},
     "output_type": "display_data"
    }
   ],
   "source": [
    "# creating a geometry column \n",
    "geometry = [Point(xy) for xy in zip(df_clust['lon'], df_clust['lat'])]\n",
    "# Coordinate reference system : WGS84\n",
    "crs = {'init': 'epsg:4326'}\n",
    "# Creating a Geographic data frame \n",
    "gdf = gpd.GeoDataFrame(df_clust, crs=crs, geometry=geometry)\n",
    "gdf = gdf.drop(gdf.index[0])\n",
    "gdf.plot(column = 'num',figsize=[10,10],legend=True)"
   ]
  },
  {
   "cell_type": "code",
   "execution_count": 62,
   "metadata": {},
   "outputs": [],
   "source": [
    "df_clust.drop(df_clust.index[0])\n",
    "df_clust.to_csv('cluster_month_4.csv',index = False)"
   ]
  },
  {
   "cell_type": "markdown",
   "metadata": {},
   "source": [
    "May"
   ]
  },
  {
   "cell_type": "code",
   "execution_count": 72,
   "metadata": {},
   "outputs": [
    {
     "name": "stdout",
     "output_type": "stream",
     "text": [
      "Number of clusters: 13\n"
     ]
    }
   ],
   "source": [
    "mdf = df_ls[4]\n",
    "loc = mdf[['LAT','LONG']]\n",
    "max_distance = 1 # in kilometers\n",
    "min_pickups = 13\n",
    "    \n",
    "# the first cluster is noise cluster, need to be removed\n",
    "hot_spots,dbscan_clusters, cluster_labels= dbscan_clustering(max_distance ,min_pickups, loc)\n",
    "# (0.02 + 10): 13, (0.1+50):6, () \n",
    "df_clust = pd.DataFrame(hot_spots, columns=['lat','lon','num'])"
   ]
  },
  {
   "cell_type": "code",
   "execution_count": 73,
   "metadata": {},
   "outputs": [
    {
     "data": {
      "text/plain": [
       "<matplotlib.axes._subplots.AxesSubplot at 0x1687370e7f0>"
      ]
     },
     "execution_count": 73,
     "metadata": {},
     "output_type": "execute_result"
    },
    {
     "data": {
      "image/png": "[encoded data removed]",
      "text/plain": [
       "<Figure size 720x720 with 2 Axes>"
      ]
     },
     "metadata": {},
     "output_type": "display_data"
    }
   ],
   "source": [
    "# creating a geometry column \n",
    "geometry = [Point(xy) for xy in zip(df_clust['lon'], df_clust['lat'])]\n",
    "# Coordinate reference system : WGS84\n",
    "crs = {'init': 'epsg:4326'}\n",
    "# Creating a Geographic data frame \n",
    "gdf = gpd.GeoDataFrame(df_clust, crs=crs, geometry=geometry)\n",
    "gdf = gdf.drop(gdf.index[0])\n",
    "gdf.plot(column = 'num',figsize=[10,10],legend=True)"
   ]
  },
  {
   "cell_type": "code",
   "execution_count": 74,
   "metadata": {},
   "outputs": [],
   "source": [
    "df_clust.drop(df_clust.index[0])\n",
    "df_clust.to_csv('cluster_month_5.csv',index = False)"
   ]
  },
  {
   "cell_type": "markdown",
   "metadata": {},
   "source": [
    "June"
   ]
  },
  {
   "cell_type": "code",
   "execution_count": 86,
   "metadata": {},
   "outputs": [
    {
     "name": "stdout",
     "output_type": "stream",
     "text": [
      "Number of clusters: 19\n"
     ]
    }
   ],
   "source": [
    "mdf = df_ls[5]\n",
    "loc = mdf[['LAT','LONG']]\n",
    "max_distance = 1 # in kilometers\n",
    "min_pickups = 19\n",
    "    \n",
    "# the first cluster is noise cluster, need to be removed\n",
    "hot_spots,dbscan_clusters, cluster_labels= dbscan_clustering(max_distance ,min_pickups, loc)\n",
    "# (0.02 + 10): 13, (0.1+50):6, () \n",
    "df_clust = pd.DataFrame(hot_spots, columns=['lat','lon','num'])"
   ]
  },
  {
   "cell_type": "code",
   "execution_count": 87,
   "metadata": {},
   "outputs": [
    {
     "data": {
      "text/plain": [
       "<matplotlib.axes._subplots.AxesSubplot at 0x16873c45c88>"
      ]
     },
     "execution_count": 87,
     "metadata": {},
     "output_type": "execute_result"
    },
    {
     "data": {
      "image/png": "[encoded data removed]",
      "text/plain": [
       "<Figure size 720x720 with 2 Axes>"
      ]
     },
     "metadata": {},
     "output_type": "display_data"
    }
   ],
   "source": [
    "# creating a geometry column \n",
    "geometry = [Point(xy) for xy in zip(df_clust['lon'], df_clust['lat'])]\n",
    "# Coordinate reference system : WGS84\n",
    "crs = {'init': 'epsg:4326'}\n",
    "# Creating a Geographic data frame \n",
    "gdf = gpd.GeoDataFrame(df_clust, crs=crs, geometry=geometry)\n",
    "gdf = gdf.drop(gdf.index[0])\n",
    "gdf.plot(column = 'num',figsize=[10,10],legend=True)"
   ]
  },
  {
   "cell_type": "code",
   "execution_count": 88,
   "metadata": {},
   "outputs": [],
   "source": [
    "df_clust.drop(df_clust.index[0])\n",
    "df_clust.to_csv('cluster_month_6.csv',index = False)"
   ]
  },
  {
   "cell_type": "markdown",
   "metadata": {},
   "source": [
    "July"
   ]
  },
  {
   "cell_type": "code",
   "execution_count": 115,
   "metadata": {},
   "outputs": [
    {
     "name": "stdout",
     "output_type": "stream",
     "text": [
      "Number of clusters: 36\n"
     ]
    }
   ],
   "source": [
    "mdf = df_ls[6]\n",
    "loc = mdf[['LAT','LONG']]\n",
    "max_distance = 1 # in kilometers\n",
    "min_pickups = 33\n",
    "    \n",
    "# the first cluster is noise cluster, need to be removed\n",
    "hot_spots,dbscan_clusters, cluster_labels= dbscan_clustering(max_distance ,min_pickups, loc)\n",
    "# (0.02 + 10): 13, (0.1+50):6, () \n",
    "df_clust = pd.DataFrame(hot_spots, columns=['lat','lon','num'])"
   ]
  },
  {
   "cell_type": "code",
   "execution_count": 116,
   "metadata": {},
   "outputs": [
    {
     "data": {
      "text/plain": [
       "<matplotlib.axes._subplots.AxesSubplot at 0x16875897320>"
      ]
     },
     "execution_count": 116,
     "metadata": {},
     "output_type": "execute_result"
    },
    {
     "data": {
      "image/png": "[encoded data removed]",
      "text/plain": [
       "<Figure size 720x720 with 2 Axes>"
      ]
     },
     "metadata": {},
     "output_type": "display_data"
    }
   ],
   "source": [
    "# creating a geometry column \n",
    "geometry = [Point(xy) for xy in zip(df_clust['lon'], df_clust['lat'])]\n",
    "# Coordinate reference system : WGS84\n",
    "crs = {'init': 'epsg:4326'}\n",
    "# Creating a Geographic data frame \n",
    "gdf = gpd.GeoDataFrame(df_clust, crs=crs, geometry=geometry)\n",
    "gdf = gdf.drop(gdf.index[0])\n",
    "gdf.plot(column = 'num',figsize=[10,10],legend=True)"
   ]
  },
  {
   "cell_type": "code",
   "execution_count": 117,
   "metadata": {},
   "outputs": [],
   "source": [
    "df_clust.drop(df_clust.index[0])\n",
    "df_clust.to_csv('cluster_month_7.csv',index = False)"
   ]
  },
  {
   "cell_type": "markdown",
   "metadata": {},
   "source": [
    "August"
   ]
  },
  {
   "cell_type": "code",
   "execution_count": 118,
   "metadata": {},
   "outputs": [
    {
     "name": "stdout",
     "output_type": "stream",
     "text": [
      "Number of clusters: 94\n"
     ]
    }
   ],
   "source": [
    "mdf = df_ls[7]\n",
    "loc = mdf[['LAT','LONG']]\n",
    "max_distance = 1 # in kilometers\n",
    "min_pickups = 55\n",
    "    \n",
    "# the first cluster is noise cluster, need to be removed\n",
    "hot_spots,dbscan_clusters, cluster_labels= dbscan_clustering(max_distance ,min_pickups, loc)\n",
    "# (0.02 + 10): 13, (0.1+50):6, () \n",
    "df_clust = pd.DataFrame(hot_spots, columns=['lat','lon','num'])"
   ]
  },
  {
   "cell_type": "code",
   "execution_count": 119,
   "metadata": {},
   "outputs": [
    {
     "data": {
      "text/plain": [
       "<matplotlib.axes._subplots.AxesSubplot at 0x16875887dd8>"
      ]
     },
     "execution_count": 119,
     "metadata": {},
     "output_type": "execute_result"
    },
    {
     "data": {
      "image/png": "[encoded data removed]",
      "text/plain": [
       "<Figure size 720x720 with 2 Axes>"
      ]
     },
     "metadata": {},
     "output_type": "display_data"
    }
   ],
   "source": [
    "# creating a geometry column \n",
    "geometry = [Point(xy) for xy in zip(df_clust['lon'], df_clust['lat'])]\n",
    "# Coordinate reference system : WGS84\n",
    "crs = {'init': 'epsg:4326'}\n",
    "# Creating a Geographic data frame \n",
    "gdf = gpd.GeoDataFrame(df_clust, crs=crs, geometry=geometry)\n",
    "gdf = gdf.drop(gdf.index[0])\n",
    "gdf.plot(column = 'num',figsize=[10,10],legend=True)"
   ]
  },
  {
   "cell_type": "code",
   "execution_count": 120,
   "metadata": {},
   "outputs": [],
   "source": [
    "df_clust.drop(df_clust.index[0])\n",
    "df_clust.to_csv('cluster_month_8.csv',index = False)"
   ]
  },
  {
   "cell_type": "markdown",
   "metadata": {},
   "source": [
    "September"
   ]
  },
  {
   "cell_type": "code",
   "execution_count": 121,
   "metadata": {},
   "outputs": [
    {
     "name": "stdout",
     "output_type": "stream",
     "text": [
      "Number of clusters: 17\n"
     ]
    }
   ],
   "source": [
    "mdf = df_ls[8]\n",
    "loc = mdf[['LAT','LONG']]\n",
    "max_distance = 1 # in kilometers\n",
    "min_pickups = 50\n",
    "    \n",
    "# the first cluster is noise cluster, need to be removed\n",
    "hot_spots,dbscan_clusters, cluster_labels= dbscan_clustering(max_distance ,min_pickups, loc)\n",
    "# (0.02 + 10): 13, (0.1+50):6, () \n",
    "df_clust = pd.DataFrame(hot_spots, columns=['lat','lon','num'])"
   ]
  },
  {
   "cell_type": "code",
   "execution_count": 122,
   "metadata": {},
   "outputs": [
    {
     "data": {
      "text/plain": [
       "<matplotlib.axes._subplots.AxesSubplot at 0x1687595f550>"
      ]
     },
     "execution_count": 122,
     "metadata": {},
     "output_type": "execute_result"
    },
    {
     "data": {
      "image/png": "[encoded data removed]",
      "text/plain": [
       "<Figure size 720x720 with 2 Axes>"
      ]
     },
     "metadata": {},
     "output_type": "display_data"
    }
   ],
   "source": [
    "# creating a geometry column \n",
    "geometry = [Point(xy) for xy in zip(df_clust['lon'], df_clust['lat'])]\n",
    "# Coordinate reference system : WGS84\n",
    "crs = {'init': 'epsg:4326'}\n",
    "# Creating a Geographic data frame \n",
    "gdf = gpd.GeoDataFrame(df_clust, crs=crs, geometry=geometry)\n",
    "gdf = gdf.drop(gdf.index[0])\n",
    "gdf.plot(column = 'num',figsize=[10,10],legend=True)"
   ]
  },
  {
   "cell_type": "code",
   "execution_count": 123,
   "metadata": {},
   "outputs": [],
   "source": [
    "df_clust.drop(df_clust.index[0])\n",
    "df_clust.to_csv('cluster_month_9.csv',index = False)"
   ]
  },
  {
   "cell_type": "markdown",
   "metadata": {},
   "source": [
    "Octobor"
   ]
  },
  {
   "cell_type": "code",
   "execution_count": 126,
   "metadata": {},
   "outputs": [
    {
     "name": "stdout",
     "output_type": "stream",
     "text": [
      "Number of clusters: 26\n"
     ]
    }
   ],
   "source": [
    "mdf = df_ls[9]\n",
    "loc = mdf[['LAT','LONG']]\n",
    "max_distance = 1 # in kilometers\n",
    "min_pickups = 20\n",
    "    \n",
    "# the first cluster is noise cluster, need to be removed\n",
    "hot_spots,dbscan_clusters, cluster_labels= dbscan_clustering(max_distance ,min_pickups, loc)\n",
    "# (0.02 + 10): 13, (0.1+50):6, () \n",
    "df_clust = pd.DataFrame(hot_spots, columns=['lat','lon','num'])"
   ]
  },
  {
   "cell_type": "code",
   "execution_count": 127,
   "metadata": {},
   "outputs": [
    {
     "data": {
      "text/plain": [
       "<matplotlib.axes._subplots.AxesSubplot at 0x16875a0f2b0>"
      ]
     },
     "execution_count": 127,
     "metadata": {},
     "output_type": "execute_result"
    },
    {
     "data": {
      "image/png": "[encoded data removed]",
      "text/plain": [
       "<Figure size 720x720 with 2 Axes>"
      ]
     },
     "metadata": {},
     "output_type": "display_data"
    }
   ],
   "source": [
    "# creating a geometry column \n",
    "geometry = [Point(xy) for xy in zip(df_clust['lon'], df_clust['lat'])]\n",
    "# Coordinate reference system : WGS84\n",
    "crs = {'init': 'epsg:4326'}\n",
    "# Creating a Geographic data frame \n",
    "gdf = gpd.GeoDataFrame(df_clust, crs=crs, geometry=geometry)\n",
    "gdf = gdf.drop(gdf.index[0])\n",
    "gdf.plot(column = 'num',figsize=[10,10],legend=True)"
   ]
  },
  {
   "cell_type": "code",
   "execution_count": 128,
   "metadata": {},
   "outputs": [],
   "source": [
    "df_clust.drop(df_clust.index[0])\n",
    "df_clust.to_csv('cluster_month_10.csv',index = False)"
   ]
  },
  {
   "cell_type": "markdown",
   "metadata": {},
   "source": [
    "November"
   ]
  },
  {
   "cell_type": "code",
   "execution_count": 132,
   "metadata": {},
   "outputs": [
    {
     "name": "stdout",
     "output_type": "stream",
     "text": [
      "Number of clusters: 18\n"
     ]
    }
   ],
   "source": [
    "mdf = df_ls[10]\n",
    "loc = mdf[['LAT','LONG']]\n",
    "max_distance = 1 # in kilometers\n",
    "min_pickups = 16\n",
    "    \n",
    "# the first cluster is noise cluster, need to be removed\n",
    "hot_spots,dbscan_clusters, cluster_labels= dbscan_clustering(max_distance ,min_pickups, loc)\n",
    "# (0.02 + 10): 13, (0.1+50):6, () \n",
    "df_clust = pd.DataFrame(hot_spots, columns=['lat','lon','num'])"
   ]
  },
  {
   "cell_type": "code",
   "execution_count": 133,
   "metadata": {},
   "outputs": [
    {
     "data": {
      "text/plain": [
       "<matplotlib.axes._subplots.AxesSubplot at 0x16875a5dda0>"
      ]
     },
     "execution_count": 133,
     "metadata": {},
     "output_type": "execute_result"
    },
    {
     "data": {
      "image/png": "[encoded data removed]",
      "text/plain": [
       "<Figure size 720x720 with 2 Axes>"
      ]
     },
     "metadata": {},
     "output_type": "display_data"
    }
   ],
   "source": [
    "# creating a geometry column \n",
    "geometry = [Point(xy) for xy in zip(df_clust['lon'], df_clust['lat'])]\n",
    "# Coordinate reference system : WGS84\n",
    "crs = {'init': 'epsg:4326'}\n",
    "# Creating a Geographic data frame \n",
    "gdf = gpd.GeoDataFrame(df_clust, crs=crs, geometry=geometry)\n",
    "gdf = gdf.drop(gdf.index[0])\n",
    "gdf.plot(column = 'num',figsize=[10,10],legend=True)"
   ]
  },
  {
   "cell_type": "code",
   "execution_count": 134,
   "metadata": {},
   "outputs": [],
   "source": [
    "df_clust.drop(df_clust.index[0])\n",
    "df_clust.to_csv('cluster_month_11.csv',index = False)"
   ]
  },
  {
   "cell_type": "markdown",
   "metadata": {},
   "source": [
    "December"
   ]
  },
  {
   "cell_type": "code",
   "execution_count": 136,
   "metadata": {},
   "outputs": [
    {
     "name": "stdout",
     "output_type": "stream",
     "text": [
      "Number of clusters: 13\n"
     ]
    }
   ],
   "source": [
    "mdf = df_ls[11]\n",
    "loc = mdf[['LAT','LONG']]\n",
    "max_distance = 1 # in kilometers\n",
    "min_pickups = 10\n",
    "    \n",
    "# the first cluster is noise cluster, need to be removed\n",
    "hot_spots,dbscan_clusters, cluster_labels= dbscan_clustering(max_distance ,min_pickups, loc)\n",
    "# (0.02 + 10): 13, (0.1+50):6, () \n",
    "df_clust = pd.DataFrame(hot_spots, columns=['lat','lon','num'])"
   ]
  },
  {
   "cell_type": "code",
   "execution_count": 137,
   "metadata": {},
   "outputs": [
    {
     "data": {
      "text/plain": [
       "<matplotlib.axes._subplots.AxesSubplot at 0x16875c2d550>"
      ]
     },
     "execution_count": 137,
     "metadata": {},
     "output_type": "execute_result"
    },
    {
     "data": {
      "image/png": "[encoded data removed]",
      "text/plain": [
       "<Figure size 720x720 with 2 Axes>"
      ]
     },
     "metadata": {},
     "output_type": "display_data"
    }
   ],
   "source": [
    "# creating a geometry column \n",
    "geometry = [Point(xy) for xy in zip(df_clust['lon'], df_clust['lat'])]\n",
    "# Coordinate reference system : WGS84\n",
    "crs = {'init': 'epsg:4326'}\n",
    "# Creating a Geographic data frame \n",
    "gdf = gpd.GeoDataFrame(df_clust, crs=crs, geometry=geometry)\n",
    "gdf = gdf.drop(gdf.index[0])\n",
    "gdf.plot(column = 'num',figsize=[10,10],legend=True)"
   ]
  },
  {
   "cell_type": "code",
   "execution_count": 138,
   "metadata": {},
   "outputs": [],
   "source": [
    "df_clust.drop(df_clust.index[0])\n",
    "df_clust.to_csv('cluster_month_12.csv',index = False)"
   ]
  },
  {
   "cell_type": "code",
   "execution_count": null,
   "metadata": {},
   "outputs": [],
   "source": []
  }
 ],
 "metadata": {
  "kernelspec": {
   "display_name": "Python 3",
   "language": "python",
   "name": "python3"
  },
  "language_info": {
   "codemirror_mode": {
    "name": "ipython",
    "version": 3
   },
   "file_extension": ".py",
   "mimetype": "text/x-python",
   "name": "python",
   "nbconvert_exporter": "python",
   "pygments_lexer": "ipython3",
   "version": "3.6.4"
  }
 },
 "nbformat": 4,
 "nbformat_minor": 2
}
