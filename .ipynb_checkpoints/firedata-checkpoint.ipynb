{
 "cells": [
  {
   "cell_type": "code",
   "execution_count": 2,
   "metadata": {},
   "outputs": [],
   "source": [
    "import geopandas as gpd\n",
    "import pandas as pd\n",
    "import datetime "
   ]
  },
  {
   "cell_type": "markdown",
   "metadata": {},
   "source": [
    "# define the scope in 3 states"
   ]
  },
  {
   "cell_type": "code",
   "execution_count": 4,
   "metadata": {},
   "outputs": [],
   "source": [
    "was = gpd.read_file(r'C:\\Users\\Meixin\\fire\\washington\\tl_2016_53_cousub.shp')"
   ]
  },
  {
   "cell_type": "code",
   "execution_count": 5,
   "metadata": {},
   "outputs": [
    {
     "data": {
      "text/html": [
       "<div>\n",
       "<style scoped>\n",
       "    .dataframe tbody tr th:only-of-type {\n",
       "        vertical-align: middle;\n",
       "    }\n",
       "\n",
       "    .dataframe tbody tr th {\n",
       "        vertical-align: top;\n",
       "    }\n",
       "\n",
       "    .dataframe thead th {\n",
       "        text-align: right;\n",
       "    }\n",
       "</style>\n",
       "<table border=\"1\" class=\"dataframe\">\n",
       "  <thead>\n",
       "    <tr style=\"text-align: right;\">\n",
       "      <th></th>\n",
       "      <th>STATEFP</th>\n",
       "      <th>COUNTYFP</th>\n",
       "      <th>COUSUBFP</th>\n",
       "      <th>COUSUBNS</th>\n",
       "      <th>GEOID</th>\n",
       "      <th>NAME</th>\n",
       "      <th>NAMELSAD</th>\n",
       "      <th>LSAD</th>\n",
       "      <th>CLASSFP</th>\n",
       "      <th>MTFCC</th>\n",
       "      <th>CNECTAFP</th>\n",
       "      <th>NECTAFP</th>\n",
       "      <th>NCTADVFP</th>\n",
       "      <th>FUNCSTAT</th>\n",
       "      <th>ALAND</th>\n",
       "      <th>AWATER</th>\n",
       "      <th>INTPTLAT</th>\n",
       "      <th>INTPTLON</th>\n",
       "      <th>geometry</th>\n",
       "    </tr>\n",
       "  </thead>\n",
       "  <tbody>\n",
       "    <tr>\n",
       "      <th>0</th>\n",
       "      <td>53</td>\n",
       "      <td>003</td>\n",
       "      <td>90096</td>\n",
       "      <td>01939443</td>\n",
       "      <td>5300390096</td>\n",
       "      <td>Asotin</td>\n",
       "      <td>Asotin CCD</td>\n",
       "      <td>22</td>\n",
       "      <td>Z5</td>\n",
       "      <td>G4040</td>\n",
       "      <td>None</td>\n",
       "      <td>None</td>\n",
       "      <td>None</td>\n",
       "      <td>S</td>\n",
       "      <td>1340244511</td>\n",
       "      <td>8191372</td>\n",
       "      <td>+46.1474746</td>\n",
       "      <td>-117.1964025</td>\n",
       "      <td>POLYGON ((-117.47997 46.016307, -117.479914 46...</td>\n",
       "    </tr>\n",
       "    <tr>\n",
       "      <th>1</th>\n",
       "      <td>53</td>\n",
       "      <td>003</td>\n",
       "      <td>90592</td>\n",
       "      <td>01939474</td>\n",
       "      <td>5300390592</td>\n",
       "      <td>Clarkston</td>\n",
       "      <td>Clarkston CCD</td>\n",
       "      <td>22</td>\n",
       "      <td>Z5</td>\n",
       "      <td>G4040</td>\n",
       "      <td>None</td>\n",
       "      <td>None</td>\n",
       "      <td>None</td>\n",
       "      <td>S</td>\n",
       "      <td>307199433</td>\n",
       "      <td>3084334</td>\n",
       "      <td>+46.3442652</td>\n",
       "      <td>-117.3012796</td>\n",
       "      <td>POLYGON ((-117.42077 46.33866, -117.420733 46....</td>\n",
       "    </tr>\n",
       "    <tr>\n",
       "      <th>2</th>\n",
       "      <td>53</td>\n",
       "      <td>075</td>\n",
       "      <td>90656</td>\n",
       "      <td>01939478</td>\n",
       "      <td>5307590656</td>\n",
       "      <td>Colfax-Palouse</td>\n",
       "      <td>Colfax-Palouse CCD</td>\n",
       "      <td>22</td>\n",
       "      <td>Z5</td>\n",
       "      <td>G4040</td>\n",
       "      <td>None</td>\n",
       "      <td>None</td>\n",
       "      <td>None</td>\n",
       "      <td>S</td>\n",
       "      <td>608990251</td>\n",
       "      <td>10534</td>\n",
       "      <td>+46.8961192</td>\n",
       "      <td>-117.2915620</td>\n",
       "      <td>POLYGON ((-117.58929 46.86652, -117.58926 46.8...</td>\n",
       "    </tr>\n",
       "    <tr>\n",
       "      <th>3</th>\n",
       "      <td>53</td>\n",
       "      <td>075</td>\n",
       "      <td>91552</td>\n",
       "      <td>01939535</td>\n",
       "      <td>5307591552</td>\n",
       "      <td>LaCrosse</td>\n",
       "      <td>LaCrosse CCD</td>\n",
       "      <td>22</td>\n",
       "      <td>Z5</td>\n",
       "      <td>G4040</td>\n",
       "      <td>None</td>\n",
       "      <td>None</td>\n",
       "      <td>None</td>\n",
       "      <td>S</td>\n",
       "      <td>1318314850</td>\n",
       "      <td>24179160</td>\n",
       "      <td>+46.7282243</td>\n",
       "      <td>-117.8212524</td>\n",
       "      <td>POLYGON ((-118.249337 46.733842, -118.249122 4...</td>\n",
       "    </tr>\n",
       "    <tr>\n",
       "      <th>4</th>\n",
       "      <td>53</td>\n",
       "      <td>075</td>\n",
       "      <td>92832</td>\n",
       "      <td>01939615</td>\n",
       "      <td>5307592832</td>\n",
       "      <td>Rock Lake</td>\n",
       "      <td>Rock Lake CCD</td>\n",
       "      <td>22</td>\n",
       "      <td>Z5</td>\n",
       "      <td>G4040</td>\n",
       "      <td>None</td>\n",
       "      <td>None</td>\n",
       "      <td>None</td>\n",
       "      <td>S</td>\n",
       "      <td>1577017631</td>\n",
       "      <td>11603165</td>\n",
       "      <td>+47.0541435</td>\n",
       "      <td>-117.7254566</td>\n",
       "      <td>POLYGON ((-118.005063 46.843602, -118.004978 4...</td>\n",
       "    </tr>\n",
       "  </tbody>\n",
       "</table>\n",
       "</div>"
      ],
      "text/plain": [
       "  STATEFP COUNTYFP COUSUBFP  COUSUBNS       GEOID            NAME  \\\n",
       "0      53      003    90096  01939443  5300390096          Asotin   \n",
       "1      53      003    90592  01939474  5300390592       Clarkston   \n",
       "2      53      075    90656  01939478  5307590656  Colfax-Palouse   \n",
       "3      53      075    91552  01939535  5307591552        LaCrosse   \n",
       "4      53      075    92832  01939615  5307592832       Rock Lake   \n",
       "\n",
       "             NAMELSAD LSAD CLASSFP  MTFCC CNECTAFP NECTAFP NCTADVFP FUNCSTAT  \\\n",
       "0          Asotin CCD   22      Z5  G4040     None    None     None        S   \n",
       "1       Clarkston CCD   22      Z5  G4040     None    None     None        S   \n",
       "2  Colfax-Palouse CCD   22      Z5  G4040     None    None     None        S   \n",
       "3        LaCrosse CCD   22      Z5  G4040     None    None     None        S   \n",
       "4       Rock Lake CCD   22      Z5  G4040     None    None     None        S   \n",
       "\n",
       "        ALAND    AWATER     INTPTLAT      INTPTLON  \\\n",
       "0  1340244511   8191372  +46.1474746  -117.1964025   \n",
       "1   307199433   3084334  +46.3442652  -117.3012796   \n",
       "2   608990251     10534  +46.8961192  -117.2915620   \n",
       "3  1318314850  24179160  +46.7282243  -117.8212524   \n",
       "4  1577017631  11603165  +47.0541435  -117.7254566   \n",
       "\n",
       "                                            geometry  \n",
       "0  POLYGON ((-117.47997 46.016307, -117.479914 46...  \n",
       "1  POLYGON ((-117.42077 46.33866, -117.420733 46....  \n",
       "2  POLYGON ((-117.58929 46.86652, -117.58926 46.8...  \n",
       "3  POLYGON ((-118.249337 46.733842, -118.249122 4...  \n",
       "4  POLYGON ((-118.005063 46.843602, -118.004978 4...  "
      ]
     },
     "execution_count": 5,
     "metadata": {},
     "output_type": "execute_result"
    }
   ],
   "source": [
    "was.head()"
   ]
  },
  {
   "cell_type": "code",
   "execution_count": 6,
   "metadata": {},
   "outputs": [],
   "source": [
    "was_whole = was.dissolve(by='STATEFP')"
   ]
  },
  {
   "cell_type": "code",
   "execution_count": 8,
   "metadata": {},
   "outputs": [
    {
     "data": {
      "text/plain": [
       "<matplotlib.axes._subplots.AxesSubplot at 0x26761810668>"
      ]
     },
     "execution_count": 8,
     "metadata": {},
     "output_type": "execute_result"
    },
    {
     "data": {
      "image/png": "[encoded data removed]",
      "text/plain": [
       "<Figure size 432x288 with 1 Axes>"
      ]
     },
     "metadata": {},
     "output_type": "display_data"
    }
   ],
   "source": [
    "was_whole.plot()"
   ]
  },
  {
   "cell_type": "code",
   "execution_count": 9,
   "metadata": {},
   "outputs": [],
   "source": [
    "ore = gpd.read_file(r'C:\\Users\\Meixin\\fire\\oregon\\tl_2016_41_cousub.shp')\n",
    "ore_whole = ore.dissolve(by='STATEFP')"
   ]
  },
  {
   "cell_type": "code",
   "execution_count": 10,
   "metadata": {},
   "outputs": [
    {
     "data": {
      "text/plain": [
       "<matplotlib.axes._subplots.AxesSubplot at 0x2676187d7b8>"
      ]
     },
     "execution_count": 10,
     "metadata": {},
     "output_type": "execute_result"
    },
    {
     "data": {
      "image/png": "[encoded data removed]",
      "text/plain": [
       "<Figure size 432x288 with 1 Axes>"
      ]
     },
     "metadata": {},
     "output_type": "display_data"
    }
   ],
   "source": [
    "ore_whole.plot()"
   ]
  },
  {
   "cell_type": "code",
   "execution_count": 11,
   "metadata": {},
   "outputs": [],
   "source": [
    "cali = gpd.read_file(r'C:\\Users\\Meixin\\fire\\california\\tl_2016_06_cousub.shp')\n",
    "cali_whole = cali.dissolve(by='STATEFP')"
   ]
  },
  {
   "cell_type": "code",
   "execution_count": 12,
   "metadata": {},
   "outputs": [
    {
     "data": {
      "text/plain": [
       "<matplotlib.axes._subplots.AxesSubplot at 0x2676188dcc0>"
      ]
     },
     "execution_count": 12,
     "metadata": {},
     "output_type": "execute_result"
    },
    {
     "data": {
      "image/png": "[encoded data removed]",
      "text/plain": [
       "<Figure size 432x288 with 1 Axes>"
      ]
     },
     "metadata": {},
     "output_type": "display_data"
    }
   ],
   "source": [
    "cali_whole.plot()"
   ]
  },
  {
   "cell_type": "code",
   "execution_count": 13,
   "metadata": {},
   "outputs": [
    {
     "data": {
      "text/html": [
       "<div>\n",
       "<style scoped>\n",
       "    .dataframe tbody tr th:only-of-type {\n",
       "        vertical-align: middle;\n",
       "    }\n",
       "\n",
       "    .dataframe tbody tr th {\n",
       "        vertical-align: top;\n",
       "    }\n",
       "\n",
       "    .dataframe thead th {\n",
       "        text-align: right;\n",
       "    }\n",
       "</style>\n",
       "<table border=\"1\" class=\"dataframe\">\n",
       "  <thead>\n",
       "    <tr style=\"text-align: right;\">\n",
       "      <th></th>\n",
       "      <th>geometry</th>\n",
       "      <th>COUNTYFP</th>\n",
       "      <th>COUSUBFP</th>\n",
       "      <th>COUSUBNS</th>\n",
       "      <th>GEOID</th>\n",
       "      <th>NAME</th>\n",
       "      <th>NAMELSAD</th>\n",
       "      <th>LSAD</th>\n",
       "      <th>CLASSFP</th>\n",
       "      <th>MTFCC</th>\n",
       "      <th>CNECTAFP</th>\n",
       "      <th>NECTAFP</th>\n",
       "      <th>NCTADVFP</th>\n",
       "      <th>FUNCSTAT</th>\n",
       "      <th>ALAND</th>\n",
       "      <th>AWATER</th>\n",
       "      <th>INTPTLAT</th>\n",
       "      <th>INTPTLON</th>\n",
       "    </tr>\n",
       "    <tr>\n",
       "      <th>STATEFP</th>\n",
       "      <th></th>\n",
       "      <th></th>\n",
       "      <th></th>\n",
       "      <th></th>\n",
       "      <th></th>\n",
       "      <th></th>\n",
       "      <th></th>\n",
       "      <th></th>\n",
       "      <th></th>\n",
       "      <th></th>\n",
       "      <th></th>\n",
       "      <th></th>\n",
       "      <th></th>\n",
       "      <th></th>\n",
       "      <th></th>\n",
       "      <th></th>\n",
       "      <th></th>\n",
       "      <th></th>\n",
       "    </tr>\n",
       "  </thead>\n",
       "  <tbody>\n",
       "    <tr>\n",
       "      <th>06</th>\n",
       "      <td>(POLYGON ((-119.636068 33.280713, -119.634795 ...</td>\n",
       "      <td>037</td>\n",
       "      <td>91400</td>\n",
       "      <td>01935145</td>\n",
       "      <td>0603791400</td>\n",
       "      <td>Inglewood</td>\n",
       "      <td>Inglewood CCD</td>\n",
       "      <td>22</td>\n",
       "      <td>Z5</td>\n",
       "      <td>G4040</td>\n",
       "      <td>None</td>\n",
       "      <td>None</td>\n",
       "      <td>None</td>\n",
       "      <td>S</td>\n",
       "      <td>76204791</td>\n",
       "      <td>279897</td>\n",
       "      <td>+33.9226389</td>\n",
       "      <td>-118.3350379</td>\n",
       "    </tr>\n",
       "  </tbody>\n",
       "</table>\n",
       "</div>"
      ],
      "text/plain": [
       "                                                  geometry COUNTYFP COUSUBFP  \\\n",
       "STATEFP                                                                        \n",
       "06       (POLYGON ((-119.636068 33.280713, -119.634795 ...      037    91400   \n",
       "\n",
       "         COUSUBNS       GEOID       NAME       NAMELSAD LSAD CLASSFP  MTFCC  \\\n",
       "STATEFP                                                                       \n",
       "06       01935145  0603791400  Inglewood  Inglewood CCD   22      Z5  G4040   \n",
       "\n",
       "        CNECTAFP NECTAFP NCTADVFP FUNCSTAT     ALAND  AWATER     INTPTLAT  \\\n",
       "STATEFP                                                                     \n",
       "06          None    None     None        S  76204791  279897  +33.9226389   \n",
       "\n",
       "             INTPTLON  \n",
       "STATEFP                \n",
       "06       -118.3350379  "
      ]
     },
     "execution_count": 13,
     "metadata": {},
     "output_type": "execute_result"
    }
   ],
   "source": [
    "cali_whole"
   ]
  },
  {
   "cell_type": "markdown",
   "metadata": {},
   "source": [
    "# preprocessing fire data"
   ]
  },
  {
   "cell_type": "code",
   "execution_count": 29,
   "metadata": {},
   "outputs": [],
   "source": [
    "Filename = r'fire_shapefile\\2018\\modis_fire_2018_365_conus.dbf'\n",
    "Table = gpd.read_file(Filename)"
   ]
  },
  {
   "cell_type": "code",
   "execution_count": 30,
   "metadata": {},
   "outputs": [],
   "source": [
    "df_s = Table.drop(['AREA','PERIMETER','FIRE_','FIRE_ID','JULIAN','GMT','SPIX','TPIX','SRC','SAT_SRC','FRP'], axis=1)"
   ]
  },
  {
   "cell_type": "code",
   "execution_count": 31,
   "metadata": {},
   "outputs": [],
   "source": [
    "def fiter(geo):\n",
    "    if geo.within(cali_whole.geometry[0]) or geo.within(ore_whole.geometry[0]) or geo.within(was_whole.geometry[0]):\n",
    "        return True\n",
    "df_s['within'] = df_s.apply(lambda row: fiter(row['geometry']),axis = 1)\n",
    "df_s = df_s[df_s['within']==True]\n",
    "df_s = df_s.drop(['within'], axis=1)"
   ]
  },
  {
   "cell_type": "code",
   "execution_count": 32,
   "metadata": {},
   "outputs": [],
   "source": [
    "df_s['DATE'] = pd.to_datetime(df_s['DATE'])\n",
    "df_s['Month'] = df_s['DATE'].dt.month\n",
    "df_s.to_csv('2018.csv',index = False)"
   ]
  },
  {
   "cell_type": "code",
   "execution_count": 19,
   "metadata": {},
   "outputs": [
    {
     "data": {
      "text/html": [
       "<div>\n",
       "<style scoped>\n",
       "    .dataframe tbody tr th:only-of-type {\n",
       "        vertical-align: middle;\n",
       "    }\n",
       "\n",
       "    .dataframe tbody tr th {\n",
       "        vertical-align: top;\n",
       "    }\n",
       "\n",
       "    .dataframe thead th {\n",
       "        text-align: right;\n",
       "    }\n",
       "</style>\n",
       "<table border=\"1\" class=\"dataframe\">\n",
       "  <thead>\n",
       "    <tr style=\"text-align: right;\">\n",
       "      <th></th>\n",
       "      <th>LAT</th>\n",
       "      <th>LONG</th>\n",
       "      <th>DATE</th>\n",
       "      <th>TEMP</th>\n",
       "      <th>CONF</th>\n",
       "      <th>geometry</th>\n",
       "      <th>Month</th>\n",
       "    </tr>\n",
       "  </thead>\n",
       "  <tbody>\n",
       "    <tr>\n",
       "      <th>658</th>\n",
       "      <td>48.976</td>\n",
       "      <td>-122.170</td>\n",
       "      <td>2016-08-25</td>\n",
       "      <td>316.4</td>\n",
       "      <td>70</td>\n",
       "      <td>POINT (-122.17 48.9760000009339)</td>\n",
       "      <td>8</td>\n",
       "    </tr>\n",
       "    <tr>\n",
       "      <th>665</th>\n",
       "      <td>48.972</td>\n",
       "      <td>-119.071</td>\n",
       "      <td>2016-05-18</td>\n",
       "      <td>323.7</td>\n",
       "      <td>69</td>\n",
       "      <td>POINT (-119.071 48.972000000934)</td>\n",
       "      <td>5</td>\n",
       "    </tr>\n",
       "    <tr>\n",
       "      <th>669</th>\n",
       "      <td>48.970</td>\n",
       "      <td>-119.089</td>\n",
       "      <td>2016-05-13</td>\n",
       "      <td>315.9</td>\n",
       "      <td>76</td>\n",
       "      <td>POINT (-119.089 48.970000000934)</td>\n",
       "      <td>5</td>\n",
       "    </tr>\n",
       "    <tr>\n",
       "      <th>674</th>\n",
       "      <td>48.966</td>\n",
       "      <td>-119.087</td>\n",
       "      <td>2016-05-17</td>\n",
       "      <td>312.4</td>\n",
       "      <td>72</td>\n",
       "      <td>POINT (-119.087 48.966000000934)</td>\n",
       "      <td>5</td>\n",
       "    </tr>\n",
       "    <tr>\n",
       "      <th>675</th>\n",
       "      <td>48.966</td>\n",
       "      <td>-119.085</td>\n",
       "      <td>2016-05-17</td>\n",
       "      <td>300.8</td>\n",
       "      <td>36</td>\n",
       "      <td>POINT (-119.085 48.966000000934)</td>\n",
       "      <td>5</td>\n",
       "    </tr>\n",
       "  </tbody>\n",
       "</table>\n",
       "</div>"
      ],
      "text/plain": [
       "        LAT     LONG       DATE   TEMP  CONF  \\\n",
       "658  48.976 -122.170 2016-08-25  316.4    70   \n",
       "665  48.972 -119.071 2016-05-18  323.7    69   \n",
       "669  48.970 -119.089 2016-05-13  315.9    76   \n",
       "674  48.966 -119.087 2016-05-17  312.4    72   \n",
       "675  48.966 -119.085 2016-05-17  300.8    36   \n",
       "\n",
       "                             geometry  Month  \n",
       "658  POINT (-122.17 48.9760000009339)      8  \n",
       "665  POINT (-119.071 48.972000000934)      5  \n",
       "669  POINT (-119.089 48.970000000934)      5  \n",
       "674  POINT (-119.087 48.966000000934)      5  \n",
       "675  POINT (-119.085 48.966000000934)      5  "
      ]
     },
     "execution_count": 19,
     "metadata": {},
     "output_type": "execute_result"
    }
   ],
   "source": [
    "df_s.head()"
   ]
  },
  {
   "cell_type": "code",
   "execution_count": 33,
   "metadata": {},
   "outputs": [
    {
     "data": {
      "text/plain": [
       "<matplotlib.axes._subplots.AxesSubplot at 0x26761e52fd0>"
      ]
     },
     "execution_count": 33,
     "metadata": {},
     "output_type": "execute_result"
    },
    {
     "data": {
      "image/png": "[encoded data removed]",
      "text/plain": [
       "<Figure size 432x288 with 1 Axes>"
      ]
     },
     "metadata": {},
     "output_type": "display_data"
    }
   ],
   "source": [
    "df_s.plot()"
   ]
  }
 ],
 "metadata": {
  "kernelspec": {
   "display_name": "Python 3",
   "language": "python",
   "name": "python3"
  },
  "language_info": {
   "codemirror_mode": {
    "name": "ipython",
    "version": 3
   },
   "file_extension": ".py",
   "mimetype": "text/x-python",
   "name": "python",
   "nbconvert_exporter": "python",
   "pygments_lexer": "ipython3",
   "version": "3.6.4"
  }
 },
 "nbformat": 4,
 "nbformat_minor": 2
}
